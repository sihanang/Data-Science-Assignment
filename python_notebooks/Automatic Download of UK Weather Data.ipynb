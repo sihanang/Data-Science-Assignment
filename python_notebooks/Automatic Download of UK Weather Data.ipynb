{
 "cells": [
  {
   "cell_type": "code",
   "execution_count": 1,
   "metadata": {},
   "outputs": [],
   "source": [
    "import os\n",
    "import pandas as pd\n",
    "import numpy as np\n",
    "import re\n",
    "import datetime\n",
    "from urllib.request import Request, urlopen, urlretrieve"
   ]
  },
  {
   "cell_type": "code",
   "execution_count": 2,
   "metadata": {},
   "outputs": [],
   "source": [
    "# Create a path to get supplementary data\n",
    "supp_data_path = '../supp_data'\n",
    "\n",
    "# Check files in directory\n",
    "supp_data_file_lst = os.listdir(supp_data_path)"
   ]
  },
  {
   "cell_type": "code",
   "execution_count": 3,
   "metadata": {},
   "outputs": [
    {
     "data": {
      "text/plain": [
       "[]"
      ]
     },
     "execution_count": 3,
     "metadata": {},
     "output_type": "execute_result"
    }
   ],
   "source": [
    "# Create a path to output obtained data to the weather folder in the raw_data folder\n",
    "raw_data_path = '../raw_data/weather'\n",
    "\n",
    "# Check files in directory\n",
    "os.listdir(raw_data_path)"
   ]
  },
  {
   "cell_type": "code",
   "execution_count": 4,
   "metadata": {},
   "outputs": [
    {
     "data": {
      "text/plain": [
       "'https://www.metoffice.gov.uk/pub/data/weather/uk/climate/stationdata/'"
      ]
     },
     "execution_count": 4,
     "metadata": {},
     "output_type": "execute_result"
    }
   ],
   "source": [
    "# Use the URL before station name for download\n",
    "stn_url = 'https://www.metoffice.gov.uk/pub/data/weather/uk/climate/stationdata/'\n",
    "stn_url"
   ]
  },
  {
   "cell_type": "code",
   "execution_count": 5,
   "metadata": {},
   "outputs": [],
   "source": [
    "def retrieve_stn_data(stn_name, stn_url = 'https://www.metoffice.gov.uk/pub/data/weather/uk/climate/stationdata/'):\n",
    "    '''\n",
    "    This function takes stn_name as input for station name, stn_url as the url preceding it\n",
    "    and reads the weather data from https://www.metoffice.gov.uk\n",
    "    of this station.\n",
    "    stn_name (str): station name\n",
    "    stn_url (str): url preceding the station name\n",
    "    '''\n",
    "\n",
    "    url = stn_url + stn_name + 'data.txt'\n",
    "    req = Request(url, headers={'User-Agent': 'Mozilla/5.0'})\n",
    "    response = urlopen(req)\n",
    "    data = response.read()      # a `bytes` object\n",
    "    text = data.decode('utf-8') # a `str`; this step can't be used if data is binary\n",
    "\n",
    "    # Split by newline character and join by a newline character\n",
    "    text = '\\n'.join(text.splitlines())\n",
    "\n",
    "    # Write to txt format in raw_data folder\n",
    "    stn_dir = os.path.join(raw_data_path, stn_name)\n",
    "    with open(stn_dir +'.txt', 'w') as text_file:\n",
    "        text_file.write(text)"
   ]
  },
  {
   "cell_type": "code",
   "execution_count": 6,
   "metadata": {},
   "outputs": [
    {
     "name": "stdout",
     "output_type": "stream",
     "text": [
      "aberporth.txt saved successfully\n",
      "armagh.txt saved successfully\n",
      "ballypatrick.txt saved successfully\n",
      "bradford.txt saved successfully\n",
      "braemar.txt saved successfully\n",
      "camborne.txt saved successfully\n",
      "cambridge.txt saved successfully\n",
      "cardiff.txt saved successfully\n",
      "chivenor.txt saved successfully\n",
      "cwmystwyth.txt saved successfully\n",
      "dunstaffnage.txt saved successfully\n",
      "durham.txt saved successfully\n",
      "eastbourne.txt saved successfully\n",
      "eskdalemuir.txt saved successfully\n",
      "heathrow.txt saved successfully\n",
      "hurn.txt saved successfully\n",
      "lerwick.txt saved successfully\n",
      "leuchars.txt saved successfully\n",
      "lowestoft.txt saved successfully\n",
      "manston.txt saved successfully\n",
      "nairn.txt saved successfully\n",
      "newtonrigg.txt saved successfully\n",
      "oxford.txt saved successfully\n",
      "paisley.txt saved successfully\n",
      "ringway.txt saved successfully\n",
      "rossonwye.txt saved successfully\n",
      "shawbury.txt saved successfully\n",
      "sheffield.txt saved successfully\n",
      "southampton.txt saved successfully\n",
      "stornoway.txt saved successfully\n",
      "suttonbonington.txt saved successfully\n",
      "tiree.txt saved successfully\n",
      "valley.txt saved successfully\n",
      "waddington.txt saved successfully\n",
      "whitby.txt saved successfully\n",
      "wickairport.txt saved successfully\n",
      "yeovilton.txt saved successfully\n"
     ]
    }
   ],
   "source": [
    "# Check for the stations.txt file and load it in if present \n",
    "# and save the stations' weather data by accessing the url\n",
    "if 'stations.txt' in supp_data_file_lst:\n",
    "    \n",
    "    # Load in station name list and convert into list object\n",
    "    stations = pd.read_csv(os.path.join(supp_data_path,'stations.txt'), header = None)\n",
    "    stations_lst = stations[0].to_list()\n",
    "    \n",
    "    # Download and save as txt file for further processing\n",
    "    for station in stations_lst:\n",
    "        retrieve_stn_data(station)\n",
    "        print('{}.txt saved successfully'.format(station))\n",
    "else:\n",
    "    print('Missing stations.txt')"
   ]
  },
  {
   "cell_type": "code",
   "execution_count": null,
   "metadata": {},
   "outputs": [],
   "source": []
  }
 ],
 "metadata": {
  "kernelspec": {
   "display_name": "Python 3",
   "language": "python",
   "name": "python3"
  },
  "language_info": {
   "codemirror_mode": {
    "name": "ipython",
    "version": 3
   },
   "file_extension": ".py",
   "mimetype": "text/x-python",
   "name": "python",
   "nbconvert_exporter": "python",
   "pygments_lexer": "ipython3",
   "version": "3.6.10"
  }
 },
 "nbformat": 4,
 "nbformat_minor": 4
}
